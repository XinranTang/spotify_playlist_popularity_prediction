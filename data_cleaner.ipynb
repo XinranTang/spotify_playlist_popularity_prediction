{
 "cells": [
  {
   "cell_type": "markdown",
   "source": "@author Xinran Tang",
   "metadata": {
    "tags": [],
    "cell_id": "00000-70535a7f-8de6-4065-bb81-b1a9399fb871",
    "deepnote_cell_type": "markdown"
   }
  },
  {
   "cell_type": "code",
   "metadata": {
    "tags": [],
    "cell_id": "00000-9d10a17e-060b-41ac-85ff-0e9c2222e4e6",
    "deepnote_to_be_reexecuted": false,
    "source_hash": "709913e6",
    "execution_start": 1637782574004,
    "execution_millis": 12054,
    "deepnote_cell_type": "code"
   },
   "source": "!pip install -U aicrowd-cli==0.1 > /dev/null",
   "outputs": [
    {
     "name": "stdout",
     "text": "\u001b[33mWARNING: You are using pip version 20.1.1; however, version 21.3.1 is available.\r\nYou should consider upgrading via the '/root/venv/bin/python -m pip install --upgrade pip' command.\u001b[0m\r\n",
     "output_type": "stream"
    }
   ],
   "execution_count": null
  },
  {
   "cell_type": "code",
   "metadata": {
    "tags": [],
    "cell_id": "00001-cf84f407-5b7a-4d7e-9f2d-a324a4d7f126",
    "deepnote_to_be_reexecuted": false,
    "source_hash": "b67bd19",
    "execution_start": 1637782586021,
    "execution_millis": 1022,
    "deepnote_cell_type": "code"
   },
   "source": "API_KEY = \"1b2165bd0b2dbd9cc257158659190b1f\"\n!aicrowd login --api-key $API_KEY",
   "outputs": [
    {
     "name": "stdout",
     "text": "\u001b[32mAPI Key valid\u001b[0m\r\n\u001b[32mSaved API Key successfully!\u001b[0m\r\n",
     "output_type": "stream"
    }
   ],
   "execution_count": null
  },
  {
   "cell_type": "code",
   "metadata": {
    "tags": [],
    "cell_id": "00002-9b0763b2-f670-4c62-b029-1243b3cb25fb",
    "deepnote_to_be_reexecuted": false,
    "source_hash": "bb25cd1b",
    "execution_start": 1637782587054,
    "execution_millis": 2943,
    "deepnote_cell_type": "code"
   },
   "source": "!aicrowd dataset list --challenge spotify-million-playlist-dataset-challenge",
   "outputs": [
    {
     "name": "stdout",
     "text": "\u001b[3m                          Datasets for challenge #277                           \u001b[0m\r\n┌───┬────────────────────────────────────────────────┬─────────────┬───────────┐\r\n│\u001b[1;35m \u001b[0m\u001b[1;35m#\u001b[0m\u001b[1;35m \u001b[0m│\u001b[1;35m \u001b[0m\u001b[1;35mTitle                                         \u001b[0m\u001b[1;35m \u001b[0m│\u001b[1;35m \u001b[0m\u001b[1;35mDescription\u001b[0m\u001b[1;35m \u001b[0m│\u001b[1;35m \u001b[0m\u001b[1;35m     Size\u001b[0m\u001b[1;35m \u001b[0m│\r\n├───┼────────────────────────────────────────────────┼─────────────┼───────────┤\r\n│ 0 │ Resourcesspotify_million_playlist_dataset.zip  │ -           │   5.79 GB │\r\n│ 1 │ Resourcesspotify_million_playlist_dataset_cha… │ -           │ 113.33 MB │\r\n└───┴────────────────────────────────────────────────┴─────────────┴───────────┘\r\n",
     "output_type": "stream"
    }
   ],
   "execution_count": null
  },
  {
   "cell_type": "code",
   "source": "!aicrowd dataset download --challenge spotify-million-playlist-dataset-challenge 0 1\n",
   "metadata": {
    "tags": [],
    "cell_id": "00003-89f2b424-8a71-4c2a-9383-632e6fb44315",
    "deepnote_to_be_reexecuted": false,
    "source_hash": "767a4984",
    "execution_start": 1637783267699,
    "execution_millis": 302828,
    "deepnote_cell_type": "code"
   },
   "outputs": [
    {
     "name": "stdout",
     "text": "spotify_million_playlist_dataset.zip:  96%|▉| 5.54G/5.79G [04:57<00:13, 18.6MB/s\nspotify_million_playlist_dataset.zip:  96%|▉| 5.54G/5.79G [04:58<00:13, 18.5MB/s\nspotify_million_playlist_dataset_challenge.zip:   0%| | 0.00/113M [00:00<?, ?B/s\n",
     "output_type": "stream"
    }
   ],
   "execution_count": null
  },
  {
   "cell_type": "markdown",
   "source": "<a style='text-decoration:none;line-height:16px;display:flex;color:#5B5B62;padding:10px;justify-content:end;' href='https://deepnote.com?utm_source=created-in-deepnote-cell&projectId=1a67a95c-7763-44cb-bdac-ea3f90d6e7c6' target=\"_blank\">\n<img alt='Created in deepnote.com' style='display:inline;max-height:16px;margin:0px;margin-right:7.5px;' src='data:image/svg+xml;base64,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' > </img>\nCreated in <span style='font-weight:600;margin-left:4px;'>Deepnote</span></a>",
   "metadata": {
    "tags": [],
    "created_in_deepnote_cell": true,
    "deepnote_cell_type": "markdown"
   }
  }
 ],
 "nbformat": 4,
 "nbformat_minor": 2,
 "metadata": {
  "orig_nbformat": 2,
  "deepnote": {
   "is_reactive": false
  },
  "deepnote_notebook_id": "ca6233f8-d3ad-413f-bc47-debebb801154",
  "deepnote_execution_queue": []
 }
}